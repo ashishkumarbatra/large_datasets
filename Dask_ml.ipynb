{
  "cells": [
    {
      "cell_type": "code",
      "source": [
        "# !pip install dask-ml"
      ],
      "metadata": {
        "id": "x7WPpLOvBDu8"
      },
      "id": "x7WPpLOvBDu8",
      "execution_count": 4,
      "outputs": []
    },
    {
      "cell_type": "code",
      "execution_count": 5,
      "id": "d5ab0132-65a4-4f8c-92b8-f9e7fd1514e2",
      "metadata": {
        "execution": {
          "iopub.execute_input": "2024-01-21T17:12:28.186855Z",
          "iopub.status.busy": "2024-01-21T17:12:28.186425Z",
          "iopub.status.idle": "2024-01-21T17:12:28.923627Z",
          "shell.execute_reply": "2024-01-21T17:12:28.923348Z",
          "shell.execute_reply.started": "2024-01-21T17:12:28.186820Z"
        },
        "colab": {
          "base_uri": "https://localhost:8080/",
          "height": 456
        },
        "id": "d5ab0132-65a4-4f8c-92b8-f9e7fd1514e2",
        "outputId": "dbdc89c6-8d00-4eda-d8f1-90844a658f87"
      },
      "outputs": [
        {
          "output_type": "stream",
          "name": "stderr",
          "text": [
            "/usr/local/lib/python3.10/dist-packages/distributed/node.py:182: UserWarning: Port 8787 is already in use.\n",
            "Perhaps you already have a cluster running?\n",
            "Hosting the HTTP server on port 46075 instead\n",
            "  warnings.warn(\n",
            "INFO:distributed.scheduler:State start\n",
            "INFO:distributed.scheduler:  Scheduler at:     tcp://127.0.0.1:36937\n",
            "INFO:distributed.scheduler:  dashboard at:  http://127.0.0.1:46075/status\n",
            "INFO:distributed.nanny:        Start Nanny at: 'tcp://127.0.0.1:45479'\n",
            "INFO:distributed.nanny:        Start Nanny at: 'tcp://127.0.0.1:46675'\n",
            "INFO:distributed.scheduler:Register worker <WorkerState 'tcp://127.0.0.1:39697', name: 0, status: init, memory: 0, processing: 0>\n",
            "INFO:distributed.scheduler:Starting worker compute stream, tcp://127.0.0.1:39697\n",
            "INFO:distributed.core:Starting established connection to tcp://127.0.0.1:45180\n",
            "INFO:distributed.scheduler:Register worker <WorkerState 'tcp://127.0.0.1:37701', name: 1, status: init, memory: 0, processing: 0>\n",
            "INFO:distributed.scheduler:Starting worker compute stream, tcp://127.0.0.1:37701\n",
            "INFO:distributed.core:Starting established connection to tcp://127.0.0.1:45186\n",
            "INFO:distributed.scheduler:Receive client connection: Client-9a13455f-b880-11ee-840e-0242ac1c000c\n",
            "INFO:distributed.core:Starting established connection to tcp://127.0.0.1:45202\n"
          ]
        },
        {
          "output_type": "execute_result",
          "data": {
            "text/plain": [
              "<Client: 'tcp://127.0.0.1:36937' processes=2 threads=2, memory=12.67 GiB>"
            ],
            "text/html": [
              "<div>\n",
              "    <div style=\"width: 24px; height: 24px; background-color: #e1e1e1; border: 3px solid #9D9D9D; border-radius: 5px; position: absolute;\"> </div>\n",
              "    <div style=\"margin-left: 48px;\">\n",
              "        <h3 style=\"margin-bottom: 0px;\">Client</h3>\n",
              "        <p style=\"color: #9D9D9D; margin-bottom: 0px;\">Client-9a13455f-b880-11ee-840e-0242ac1c000c</p>\n",
              "        <table style=\"width: 100%; text-align: left;\">\n",
              "\n",
              "        <tr>\n",
              "        \n",
              "            <td style=\"text-align: left;\"><strong>Connection method:</strong> Cluster object</td>\n",
              "            <td style=\"text-align: left;\"><strong>Cluster type:</strong> distributed.LocalCluster</td>\n",
              "        \n",
              "        </tr>\n",
              "\n",
              "        \n",
              "            <tr>\n",
              "                <td style=\"text-align: left;\">\n",
              "                    <strong>Dashboard: </strong> <a href=\"http://127.0.0.1:46075/status\" target=\"_blank\">http://127.0.0.1:46075/status</a>\n",
              "                </td>\n",
              "                <td style=\"text-align: left;\"></td>\n",
              "            </tr>\n",
              "        \n",
              "\n",
              "        </table>\n",
              "\n",
              "        \n",
              "\n",
              "        \n",
              "            <details>\n",
              "            <summary style=\"margin-bottom: 20px;\"><h3 style=\"display: inline;\">Cluster Info</h3></summary>\n",
              "            <div class=\"jp-RenderedHTMLCommon jp-RenderedHTML jp-mod-trusted jp-OutputArea-output\">\n",
              "    <div style=\"width: 24px; height: 24px; background-color: #e1e1e1; border: 3px solid #9D9D9D; border-radius: 5px; position: absolute;\">\n",
              "    </div>\n",
              "    <div style=\"margin-left: 48px;\">\n",
              "        <h3 style=\"margin-bottom: 0px; margin-top: 0px;\">LocalCluster</h3>\n",
              "        <p style=\"color: #9D9D9D; margin-bottom: 0px;\">cc93803e</p>\n",
              "        <table style=\"width: 100%; text-align: left;\">\n",
              "            <tr>\n",
              "                <td style=\"text-align: left;\">\n",
              "                    <strong>Dashboard:</strong> <a href=\"http://127.0.0.1:46075/status\" target=\"_blank\">http://127.0.0.1:46075/status</a>\n",
              "                </td>\n",
              "                <td style=\"text-align: left;\">\n",
              "                    <strong>Workers:</strong> 2\n",
              "                </td>\n",
              "            </tr>\n",
              "            <tr>\n",
              "                <td style=\"text-align: left;\">\n",
              "                    <strong>Total threads:</strong> 2\n",
              "                </td>\n",
              "                <td style=\"text-align: left;\">\n",
              "                    <strong>Total memory:</strong> 12.67 GiB\n",
              "                </td>\n",
              "            </tr>\n",
              "            \n",
              "            <tr>\n",
              "    <td style=\"text-align: left;\"><strong>Status:</strong> running</td>\n",
              "    <td style=\"text-align: left;\"><strong>Using processes:</strong> True</td>\n",
              "</tr>\n",
              "\n",
              "            \n",
              "        </table>\n",
              "\n",
              "        <details>\n",
              "            <summary style=\"margin-bottom: 20px;\">\n",
              "                <h3 style=\"display: inline;\">Scheduler Info</h3>\n",
              "            </summary>\n",
              "\n",
              "            <div style=\"\">\n",
              "    <div>\n",
              "        <div style=\"width: 24px; height: 24px; background-color: #FFF7E5; border: 3px solid #FF6132; border-radius: 5px; position: absolute;\"> </div>\n",
              "        <div style=\"margin-left: 48px;\">\n",
              "            <h3 style=\"margin-bottom: 0px;\">Scheduler</h3>\n",
              "            <p style=\"color: #9D9D9D; margin-bottom: 0px;\">Scheduler-2be66ddc-c5fb-4712-ba05-34026ffd861e</p>\n",
              "            <table style=\"width: 100%; text-align: left;\">\n",
              "                <tr>\n",
              "                    <td style=\"text-align: left;\">\n",
              "                        <strong>Comm:</strong> tcp://127.0.0.1:36937\n",
              "                    </td>\n",
              "                    <td style=\"text-align: left;\">\n",
              "                        <strong>Workers:</strong> 2\n",
              "                    </td>\n",
              "                </tr>\n",
              "                <tr>\n",
              "                    <td style=\"text-align: left;\">\n",
              "                        <strong>Dashboard:</strong> <a href=\"http://127.0.0.1:46075/status\" target=\"_blank\">http://127.0.0.1:46075/status</a>\n",
              "                    </td>\n",
              "                    <td style=\"text-align: left;\">\n",
              "                        <strong>Total threads:</strong> 2\n",
              "                    </td>\n",
              "                </tr>\n",
              "                <tr>\n",
              "                    <td style=\"text-align: left;\">\n",
              "                        <strong>Started:</strong> Just now\n",
              "                    </td>\n",
              "                    <td style=\"text-align: left;\">\n",
              "                        <strong>Total memory:</strong> 12.67 GiB\n",
              "                    </td>\n",
              "                </tr>\n",
              "            </table>\n",
              "        </div>\n",
              "    </div>\n",
              "\n",
              "    <details style=\"margin-left: 48px;\">\n",
              "        <summary style=\"margin-bottom: 20px;\">\n",
              "            <h3 style=\"display: inline;\">Workers</h3>\n",
              "        </summary>\n",
              "\n",
              "        \n",
              "        <div style=\"margin-bottom: 20px;\">\n",
              "            <div style=\"width: 24px; height: 24px; background-color: #DBF5FF; border: 3px solid #4CC9FF; border-radius: 5px; position: absolute;\"> </div>\n",
              "            <div style=\"margin-left: 48px;\">\n",
              "            <details>\n",
              "                <summary>\n",
              "                    <h4 style=\"margin-bottom: 0px; display: inline;\">Worker: 0</h4>\n",
              "                </summary>\n",
              "                <table style=\"width: 100%; text-align: left;\">\n",
              "                    <tr>\n",
              "                        <td style=\"text-align: left;\">\n",
              "                            <strong>Comm: </strong> tcp://127.0.0.1:39697\n",
              "                        </td>\n",
              "                        <td style=\"text-align: left;\">\n",
              "                            <strong>Total threads: </strong> 1\n",
              "                        </td>\n",
              "                    </tr>\n",
              "                    <tr>\n",
              "                        <td style=\"text-align: left;\">\n",
              "                            <strong>Dashboard: </strong> <a href=\"http://127.0.0.1:42697/status\" target=\"_blank\">http://127.0.0.1:42697/status</a>\n",
              "                        </td>\n",
              "                        <td style=\"text-align: left;\">\n",
              "                            <strong>Memory: </strong> 6.34 GiB\n",
              "                        </td>\n",
              "                    </tr>\n",
              "                    <tr>\n",
              "                        <td style=\"text-align: left;\">\n",
              "                            <strong>Nanny: </strong> tcp://127.0.0.1:45479\n",
              "                        </td>\n",
              "                        <td style=\"text-align: left;\"></td>\n",
              "                    </tr>\n",
              "                    <tr>\n",
              "                        <td colspan=\"2\" style=\"text-align: left;\">\n",
              "                            <strong>Local directory: </strong> /tmp/dask-scratch-space/worker-yloiybrv\n",
              "                        </td>\n",
              "                    </tr>\n",
              "\n",
              "                    \n",
              "\n",
              "                    \n",
              "\n",
              "                </table>\n",
              "            </details>\n",
              "            </div>\n",
              "        </div>\n",
              "        \n",
              "        <div style=\"margin-bottom: 20px;\">\n",
              "            <div style=\"width: 24px; height: 24px; background-color: #DBF5FF; border: 3px solid #4CC9FF; border-radius: 5px; position: absolute;\"> </div>\n",
              "            <div style=\"margin-left: 48px;\">\n",
              "            <details>\n",
              "                <summary>\n",
              "                    <h4 style=\"margin-bottom: 0px; display: inline;\">Worker: 1</h4>\n",
              "                </summary>\n",
              "                <table style=\"width: 100%; text-align: left;\">\n",
              "                    <tr>\n",
              "                        <td style=\"text-align: left;\">\n",
              "                            <strong>Comm: </strong> tcp://127.0.0.1:37701\n",
              "                        </td>\n",
              "                        <td style=\"text-align: left;\">\n",
              "                            <strong>Total threads: </strong> 1\n",
              "                        </td>\n",
              "                    </tr>\n",
              "                    <tr>\n",
              "                        <td style=\"text-align: left;\">\n",
              "                            <strong>Dashboard: </strong> <a href=\"http://127.0.0.1:35879/status\" target=\"_blank\">http://127.0.0.1:35879/status</a>\n",
              "                        </td>\n",
              "                        <td style=\"text-align: left;\">\n",
              "                            <strong>Memory: </strong> 6.34 GiB\n",
              "                        </td>\n",
              "                    </tr>\n",
              "                    <tr>\n",
              "                        <td style=\"text-align: left;\">\n",
              "                            <strong>Nanny: </strong> tcp://127.0.0.1:46675\n",
              "                        </td>\n",
              "                        <td style=\"text-align: left;\"></td>\n",
              "                    </tr>\n",
              "                    <tr>\n",
              "                        <td colspan=\"2\" style=\"text-align: left;\">\n",
              "                            <strong>Local directory: </strong> /tmp/dask-scratch-space/worker-7r3_e0t8\n",
              "                        </td>\n",
              "                    </tr>\n",
              "\n",
              "                    \n",
              "\n",
              "                    \n",
              "\n",
              "                </table>\n",
              "            </details>\n",
              "            </div>\n",
              "        </div>\n",
              "        \n",
              "\n",
              "    </details>\n",
              "</div>\n",
              "\n",
              "        </details>\n",
              "    </div>\n",
              "</div>\n",
              "            </details>\n",
              "        \n",
              "\n",
              "    </div>\n",
              "</div>"
            ]
          },
          "metadata": {},
          "execution_count": 5
        }
      ],
      "source": [
        "from dask.distributed import Client\n",
        "client = Client(n_workers=2, threads_per_worker=1)\n",
        "client"
      ]
    },
    {
      "cell_type": "code",
      "execution_count": 6,
      "id": "fd7445b0-8a96-413f-8669-948e52512df8",
      "metadata": {
        "execution": {
          "iopub.execute_input": "2024-01-21T17:09:33.541640Z",
          "iopub.status.busy": "2024-01-21T17:09:33.541540Z",
          "iopub.status.idle": "2024-01-21T17:09:33.572932Z",
          "shell.execute_reply": "2024-01-21T17:09:33.572339Z",
          "shell.execute_reply.started": "2024-01-21T17:09:33.541631Z"
        },
        "colab": {
          "base_uri": "https://localhost:8080/",
          "height": 251
        },
        "id": "fd7445b0-8a96-413f-8669-948e52512df8",
        "outputId": "04c676ef-0c68-4ed9-ee9a-ef48b09542c0"
      },
      "outputs": [
        {
          "output_type": "stream",
          "name": "stderr",
          "text": [
            "/usr/local/lib/python3.10/dist-packages/dask/base.py:1437: UserWarning: Running on a single-machine scheduler when a distributed client is active might lead to unexpected results.\n",
            "  warnings.warn(\n"
          ]
        },
        {
          "output_type": "execute_result",
          "data": {
            "text/plain": [
              "dask.array<normal, shape=(100000, 100), dtype=float64, chunksize=(1000, 100), chunktype=numpy.ndarray>"
            ],
            "text/html": [
              "<table>\n",
              "    <tr>\n",
              "        <td>\n",
              "            <table style=\"border-collapse: collapse;\">\n",
              "                <thead>\n",
              "                    <tr>\n",
              "                        <td> </td>\n",
              "                        <th> Array </th>\n",
              "                        <th> Chunk </th>\n",
              "                    </tr>\n",
              "                </thead>\n",
              "                <tbody>\n",
              "                    \n",
              "                    <tr>\n",
              "                        <th> Bytes </th>\n",
              "                        <td> 76.29 MiB </td>\n",
              "                        <td> 781.25 kiB </td>\n",
              "                    </tr>\n",
              "                    \n",
              "                    <tr>\n",
              "                        <th> Shape </th>\n",
              "                        <td> (100000, 100) </td>\n",
              "                        <td> (1000, 100) </td>\n",
              "                    </tr>\n",
              "                    <tr>\n",
              "                        <th> Dask graph </th>\n",
              "                        <td colspan=\"2\"> 100 chunks in 1 graph layer </td>\n",
              "                    </tr>\n",
              "                    <tr>\n",
              "                        <th> Data type </th>\n",
              "                        <td colspan=\"2\"> float64 numpy.ndarray </td>\n",
              "                    </tr>\n",
              "                </tbody>\n",
              "            </table>\n",
              "        </td>\n",
              "        <td>\n",
              "        <svg width=\"75\" height=\"170\" style=\"stroke:rgb(0,0,0);stroke-width:1\" >\n",
              "\n",
              "  <!-- Horizontal lines -->\n",
              "  <line x1=\"0\" y1=\"0\" x2=\"25\" y2=\"0\" style=\"stroke-width:2\" />\n",
              "  <line x1=\"0\" y1=\"6\" x2=\"25\" y2=\"6\" />\n",
              "  <line x1=\"0\" y1=\"12\" x2=\"25\" y2=\"12\" />\n",
              "  <line x1=\"0\" y1=\"18\" x2=\"25\" y2=\"18\" />\n",
              "  <line x1=\"0\" y1=\"25\" x2=\"25\" y2=\"25\" />\n",
              "  <line x1=\"0\" y1=\"31\" x2=\"25\" y2=\"31\" />\n",
              "  <line x1=\"0\" y1=\"37\" x2=\"25\" y2=\"37\" />\n",
              "  <line x1=\"0\" y1=\"43\" x2=\"25\" y2=\"43\" />\n",
              "  <line x1=\"0\" y1=\"50\" x2=\"25\" y2=\"50\" />\n",
              "  <line x1=\"0\" y1=\"56\" x2=\"25\" y2=\"56\" />\n",
              "  <line x1=\"0\" y1=\"62\" x2=\"25\" y2=\"62\" />\n",
              "  <line x1=\"0\" y1=\"68\" x2=\"25\" y2=\"68\" />\n",
              "  <line x1=\"0\" y1=\"75\" x2=\"25\" y2=\"75\" />\n",
              "  <line x1=\"0\" y1=\"81\" x2=\"25\" y2=\"81\" />\n",
              "  <line x1=\"0\" y1=\"87\" x2=\"25\" y2=\"87\" />\n",
              "  <line x1=\"0\" y1=\"93\" x2=\"25\" y2=\"93\" />\n",
              "  <line x1=\"0\" y1=\"100\" x2=\"25\" y2=\"100\" />\n",
              "  <line x1=\"0\" y1=\"106\" x2=\"25\" y2=\"106\" />\n",
              "  <line x1=\"0\" y1=\"112\" x2=\"25\" y2=\"112\" />\n",
              "  <line x1=\"0\" y1=\"120\" x2=\"25\" y2=\"120\" style=\"stroke-width:2\" />\n",
              "\n",
              "  <!-- Vertical lines -->\n",
              "  <line x1=\"0\" y1=\"0\" x2=\"0\" y2=\"120\" style=\"stroke-width:2\" />\n",
              "  <line x1=\"25\" y1=\"0\" x2=\"25\" y2=\"120\" style=\"stroke-width:2\" />\n",
              "\n",
              "  <!-- Colored Rectangle -->\n",
              "  <polygon points=\"0.0,0.0 25.41261651458249,0.0 25.41261651458249,120.0 0.0,120.0\" style=\"fill:#8B4903A0;stroke-width:0\"/>\n",
              "\n",
              "  <!-- Text -->\n",
              "  <text x=\"12.706308\" y=\"140.000000\" font-size=\"1.0rem\" font-weight=\"100\" text-anchor=\"middle\" >100</text>\n",
              "  <text x=\"45.412617\" y=\"60.000000\" font-size=\"1.0rem\" font-weight=\"100\" text-anchor=\"middle\" transform=\"rotate(-90,45.412617,60.000000)\">100000</text>\n",
              "</svg>\n",
              "        </td>\n",
              "    </tr>\n",
              "</table>"
            ]
          },
          "metadata": {},
          "execution_count": 6
        }
      ],
      "source": [
        "import dask\n",
        "import dask.array as da\n",
        "from dask_ml.datasets import make_classification\n",
        "\n",
        "\n",
        "n, d = 100000, 100\n",
        "\n",
        "X, y = make_classification(n_samples=n, n_features=d,\n",
        "                           chunks=n // 100, flip_y=0.2)\n",
        "X\n"
      ]
    },
    {
      "cell_type": "code",
      "execution_count": 7,
      "id": "25971590-e602-4fd1-bdbc-47733722ef76",
      "metadata": {
        "execution": {
          "iopub.execute_input": "2024-01-21T17:09:45.648860Z",
          "iopub.status.busy": "2024-01-21T17:09:45.648462Z",
          "iopub.status.idle": "2024-01-21T17:09:45.680510Z",
          "shell.execute_reply": "2024-01-21T17:09:45.680018Z",
          "shell.execute_reply.started": "2024-01-21T17:09:45.648839Z"
        },
        "colab": {
          "base_uri": "https://localhost:8080/",
          "height": 197
        },
        "id": "25971590-e602-4fd1-bdbc-47733722ef76",
        "outputId": "8f7c7110-8845-44a4-f8d5-5f32443899e5"
      },
      "outputs": [
        {
          "output_type": "execute_result",
          "data": {
            "text/plain": [
              "dask.array<concatenate, shape=(90000, 100), dtype=float64, chunksize=(900, 100), chunktype=numpy.ndarray>"
            ],
            "text/html": [
              "<table>\n",
              "    <tr>\n",
              "        <td>\n",
              "            <table style=\"border-collapse: collapse;\">\n",
              "                <thead>\n",
              "                    <tr>\n",
              "                        <td> </td>\n",
              "                        <th> Array </th>\n",
              "                        <th> Chunk </th>\n",
              "                    </tr>\n",
              "                </thead>\n",
              "                <tbody>\n",
              "                    \n",
              "                    <tr>\n",
              "                        <th> Bytes </th>\n",
              "                        <td> 68.66 MiB </td>\n",
              "                        <td> 703.12 kiB </td>\n",
              "                    </tr>\n",
              "                    \n",
              "                    <tr>\n",
              "                        <th> Shape </th>\n",
              "                        <td> (90000, 100) </td>\n",
              "                        <td> (900, 100) </td>\n",
              "                    </tr>\n",
              "                    <tr>\n",
              "                        <th> Dask graph </th>\n",
              "                        <td colspan=\"2\"> 100 chunks in 303 graph layers </td>\n",
              "                    </tr>\n",
              "                    <tr>\n",
              "                        <th> Data type </th>\n",
              "                        <td colspan=\"2\"> float64 numpy.ndarray </td>\n",
              "                    </tr>\n",
              "                </tbody>\n",
              "            </table>\n",
              "        </td>\n",
              "        <td>\n",
              "        <svg width=\"75\" height=\"170\" style=\"stroke:rgb(0,0,0);stroke-width:1\" >\n",
              "\n",
              "  <!-- Horizontal lines -->\n",
              "  <line x1=\"0\" y1=\"0\" x2=\"25\" y2=\"0\" style=\"stroke-width:2\" />\n",
              "  <line x1=\"0\" y1=\"6\" x2=\"25\" y2=\"6\" />\n",
              "  <line x1=\"0\" y1=\"12\" x2=\"25\" y2=\"12\" />\n",
              "  <line x1=\"0\" y1=\"18\" x2=\"25\" y2=\"18\" />\n",
              "  <line x1=\"0\" y1=\"25\" x2=\"25\" y2=\"25\" />\n",
              "  <line x1=\"0\" y1=\"31\" x2=\"25\" y2=\"31\" />\n",
              "  <line x1=\"0\" y1=\"37\" x2=\"25\" y2=\"37\" />\n",
              "  <line x1=\"0\" y1=\"43\" x2=\"25\" y2=\"43\" />\n",
              "  <line x1=\"0\" y1=\"50\" x2=\"25\" y2=\"50\" />\n",
              "  <line x1=\"0\" y1=\"56\" x2=\"25\" y2=\"56\" />\n",
              "  <line x1=\"0\" y1=\"62\" x2=\"25\" y2=\"62\" />\n",
              "  <line x1=\"0\" y1=\"68\" x2=\"25\" y2=\"68\" />\n",
              "  <line x1=\"0\" y1=\"75\" x2=\"25\" y2=\"75\" />\n",
              "  <line x1=\"0\" y1=\"81\" x2=\"25\" y2=\"81\" />\n",
              "  <line x1=\"0\" y1=\"87\" x2=\"25\" y2=\"87\" />\n",
              "  <line x1=\"0\" y1=\"93\" x2=\"25\" y2=\"93\" />\n",
              "  <line x1=\"0\" y1=\"100\" x2=\"25\" y2=\"100\" />\n",
              "  <line x1=\"0\" y1=\"106\" x2=\"25\" y2=\"106\" />\n",
              "  <line x1=\"0\" y1=\"112\" x2=\"25\" y2=\"112\" />\n",
              "  <line x1=\"0\" y1=\"120\" x2=\"25\" y2=\"120\" style=\"stroke-width:2\" />\n",
              "\n",
              "  <!-- Vertical lines -->\n",
              "  <line x1=\"0\" y1=\"0\" x2=\"0\" y2=\"120\" style=\"stroke-width:2\" />\n",
              "  <line x1=\"25\" y1=\"0\" x2=\"25\" y2=\"120\" style=\"stroke-width:2\" />\n",
              "\n",
              "  <!-- Colored Rectangle -->\n",
              "  <polygon points=\"0.0,0.0 25.41261651458249,0.0 25.41261651458249,120.0 0.0,120.0\" style=\"fill:#8B4903A0;stroke-width:0\"/>\n",
              "\n",
              "  <!-- Text -->\n",
              "  <text x=\"12.706308\" y=\"140.000000\" font-size=\"1.0rem\" font-weight=\"100\" text-anchor=\"middle\" >100</text>\n",
              "  <text x=\"45.412617\" y=\"60.000000\" font-size=\"1.0rem\" font-weight=\"100\" text-anchor=\"middle\" transform=\"rotate(-90,45.412617,60.000000)\">90000</text>\n",
              "</svg>\n",
              "        </td>\n",
              "    </tr>\n",
              "</table>"
            ]
          },
          "metadata": {},
          "execution_count": 7
        }
      ],
      "source": [
        "from dask_ml.model_selection import train_test_split\n",
        "X_train, X_test, y_train, y_test = train_test_split(X, y)\n",
        "X_train"
      ]
    },
    {
      "cell_type": "code",
      "execution_count": 8,
      "id": "48e66384-9877-45b1-9b2d-a353b58a0099",
      "metadata": {
        "execution": {
          "iopub.execute_input": "2024-01-21T17:09:45.812569Z",
          "iopub.status.busy": "2024-01-21T17:09:45.812418Z",
          "iopub.status.idle": "2024-01-21T17:09:45.828927Z",
          "shell.execute_reply": "2024-01-21T17:09:45.826908Z",
          "shell.execute_reply.started": "2024-01-21T17:09:45.812559Z"
        },
        "id": "48e66384-9877-45b1-9b2d-a353b58a0099"
      },
      "outputs": [],
      "source": [
        "X_train, X_test, y_train, y_test = dask.persist(X_train, X_test, y_train, y_test)"
      ]
    },
    {
      "cell_type": "code",
      "execution_count": 9,
      "id": "48418781-d95b-452d-a3d7-e2c68f4ee316",
      "metadata": {
        "execution": {
          "iopub.execute_input": "2024-01-21T17:09:46.028692Z",
          "iopub.status.busy": "2024-01-21T17:09:46.028557Z",
          "iopub.status.idle": "2024-01-21T17:09:47.150159Z",
          "shell.execute_reply": "2024-01-21T17:09:47.149894Z",
          "shell.execute_reply.started": "2024-01-21T17:09:46.028683Z"
        },
        "colab": {
          "base_uri": "https://localhost:8080/"
        },
        "id": "48418781-d95b-452d-a3d7-e2c68f4ee316",
        "outputId": "03a1f11d-f252-46e7-e91b-32c5b7ec9e41"
      },
      "outputs": [
        {
          "output_type": "execute_result",
          "data": {
            "text/plain": [
              "array([0, 1])"
            ]
          },
          "metadata": {},
          "execution_count": 9
        }
      ],
      "source": [
        "classes = da.unique(y_train).compute()\n",
        "classes"
      ]
    },
    {
      "cell_type": "code",
      "execution_count": 10,
      "id": "4abaf714-ec29-4471-a405-f8e473b20f26",
      "metadata": {
        "execution": {
          "iopub.execute_input": "2024-01-21T17:09:47.150938Z",
          "iopub.status.busy": "2024-01-21T17:09:47.150866Z",
          "iopub.status.idle": "2024-01-21T17:09:47.154635Z",
          "shell.execute_reply": "2024-01-21T17:09:47.154319Z",
          "shell.execute_reply.started": "2024-01-21T17:09:47.150932Z"
        },
        "id": "4abaf714-ec29-4471-a405-f8e473b20f26"
      },
      "outputs": [],
      "source": [
        "from sklearn.linear_model import SGDClassifier\n",
        "\n",
        "est = SGDClassifier(loss='log', penalty='l2', tol=1e-3)"
      ]
    },
    {
      "cell_type": "code",
      "execution_count": 11,
      "id": "a227f3e7-919e-44f7-abe6-946a68ec6bf2",
      "metadata": {
        "execution": {
          "iopub.execute_input": "2024-01-21T17:09:47.155044Z",
          "iopub.status.busy": "2024-01-21T17:09:47.154977Z",
          "iopub.status.idle": "2024-01-21T17:09:47.157177Z",
          "shell.execute_reply": "2024-01-21T17:09:47.156792Z",
          "shell.execute_reply.started": "2024-01-21T17:09:47.155038Z"
        },
        "id": "a227f3e7-919e-44f7-abe6-946a68ec6bf2"
      },
      "outputs": [],
      "source": [
        "# Wrap with Dask ML\n",
        "from dask_ml.wrappers import Incremental\n",
        "\n",
        "inc = Incremental(est, scoring='accuracy')"
      ]
    },
    {
      "cell_type": "code",
      "execution_count": 12,
      "id": "676e60e3-eec7-4509-a8f8-93f84b2044e0",
      "metadata": {
        "execution": {
          "iopub.execute_input": "2024-01-21T17:09:47.645189Z",
          "iopub.status.busy": "2024-01-21T17:09:47.644851Z",
          "iopub.status.idle": "2024-01-21T17:09:47.754393Z",
          "shell.execute_reply": "2024-01-21T17:09:47.753937Z",
          "shell.execute_reply.started": "2024-01-21T17:09:47.645170Z"
        },
        "colab": {
          "base_uri": "https://localhost:8080/",
          "height": 117
        },
        "id": "676e60e3-eec7-4509-a8f8-93f84b2044e0",
        "outputId": "f13e3f8e-8133-4198-e981-adb1f8edc75a"
      },
      "outputs": [
        {
          "output_type": "execute_result",
          "data": {
            "text/plain": [
              "Incremental(estimator=SGDClassifier(loss='log'), scoring='accuracy')"
            ],
            "text/html": [
              "<style>#sk-container-id-1 {color: black;background-color: white;}#sk-container-id-1 pre{padding: 0;}#sk-container-id-1 div.sk-toggleable {background-color: white;}#sk-container-id-1 label.sk-toggleable__label {cursor: pointer;display: block;width: 100%;margin-bottom: 0;padding: 0.3em;box-sizing: border-box;text-align: center;}#sk-container-id-1 label.sk-toggleable__label-arrow:before {content: \"▸\";float: left;margin-right: 0.25em;color: #696969;}#sk-container-id-1 label.sk-toggleable__label-arrow:hover:before {color: black;}#sk-container-id-1 div.sk-estimator:hover label.sk-toggleable__label-arrow:before {color: black;}#sk-container-id-1 div.sk-toggleable__content {max-height: 0;max-width: 0;overflow: hidden;text-align: left;background-color: #f0f8ff;}#sk-container-id-1 div.sk-toggleable__content pre {margin: 0.2em;color: black;border-radius: 0.25em;background-color: #f0f8ff;}#sk-container-id-1 input.sk-toggleable__control:checked~div.sk-toggleable__content {max-height: 200px;max-width: 100%;overflow: auto;}#sk-container-id-1 input.sk-toggleable__control:checked~label.sk-toggleable__label-arrow:before {content: \"▾\";}#sk-container-id-1 div.sk-estimator input.sk-toggleable__control:checked~label.sk-toggleable__label {background-color: #d4ebff;}#sk-container-id-1 div.sk-label input.sk-toggleable__control:checked~label.sk-toggleable__label {background-color: #d4ebff;}#sk-container-id-1 input.sk-hidden--visually {border: 0;clip: rect(1px 1px 1px 1px);clip: rect(1px, 1px, 1px, 1px);height: 1px;margin: -1px;overflow: hidden;padding: 0;position: absolute;width: 1px;}#sk-container-id-1 div.sk-estimator {font-family: monospace;background-color: #f0f8ff;border: 1px dotted black;border-radius: 0.25em;box-sizing: border-box;margin-bottom: 0.5em;}#sk-container-id-1 div.sk-estimator:hover {background-color: #d4ebff;}#sk-container-id-1 div.sk-parallel-item::after {content: \"\";width: 100%;border-bottom: 1px solid gray;flex-grow: 1;}#sk-container-id-1 div.sk-label:hover label.sk-toggleable__label {background-color: #d4ebff;}#sk-container-id-1 div.sk-serial::before {content: \"\";position: absolute;border-left: 1px solid gray;box-sizing: border-box;top: 0;bottom: 0;left: 50%;z-index: 0;}#sk-container-id-1 div.sk-serial {display: flex;flex-direction: column;align-items: center;background-color: white;padding-right: 0.2em;padding-left: 0.2em;position: relative;}#sk-container-id-1 div.sk-item {position: relative;z-index: 1;}#sk-container-id-1 div.sk-parallel {display: flex;align-items: stretch;justify-content: center;background-color: white;position: relative;}#sk-container-id-1 div.sk-item::before, #sk-container-id-1 div.sk-parallel-item::before {content: \"\";position: absolute;border-left: 1px solid gray;box-sizing: border-box;top: 0;bottom: 0;left: 50%;z-index: -1;}#sk-container-id-1 div.sk-parallel-item {display: flex;flex-direction: column;z-index: 1;position: relative;background-color: white;}#sk-container-id-1 div.sk-parallel-item:first-child::after {align-self: flex-end;width: 50%;}#sk-container-id-1 div.sk-parallel-item:last-child::after {align-self: flex-start;width: 50%;}#sk-container-id-1 div.sk-parallel-item:only-child::after {width: 0;}#sk-container-id-1 div.sk-dashed-wrapped {border: 1px dashed gray;margin: 0 0.4em 0.5em 0.4em;box-sizing: border-box;padding-bottom: 0.4em;background-color: white;}#sk-container-id-1 div.sk-label label {font-family: monospace;font-weight: bold;display: inline-block;line-height: 1.2em;}#sk-container-id-1 div.sk-label-container {text-align: center;}#sk-container-id-1 div.sk-container {/* jupyter's `normalize.less` sets `[hidden] { display: none; }` but bootstrap.min.css set `[hidden] { display: none !important; }` so we also need the `!important` here to be able to override the default hidden behavior on the sphinx rendered scikit-learn.org. See: https://github.com/scikit-learn/scikit-learn/issues/21755 */display: inline-block !important;position: relative;}#sk-container-id-1 div.sk-text-repr-fallback {display: none;}</style><div id=\"sk-container-id-1\" class=\"sk-top-container\"><div class=\"sk-text-repr-fallback\"><pre>Incremental(estimator=SGDClassifier(loss=&#x27;log&#x27;), scoring=&#x27;accuracy&#x27;)</pre><b>In a Jupyter environment, please rerun this cell to show the HTML representation or trust the notebook. <br />On GitHub, the HTML representation is unable to render, please try loading this page with nbviewer.org.</b></div><div class=\"sk-container\" hidden><div class=\"sk-item sk-dashed-wrapped\"><div class=\"sk-label-container\"><div class=\"sk-label sk-toggleable\"><input class=\"sk-toggleable__control sk-hidden--visually\" id=\"sk-estimator-id-1\" type=\"checkbox\" ><label for=\"sk-estimator-id-1\" class=\"sk-toggleable__label sk-toggleable__label-arrow\">Incremental</label><div class=\"sk-toggleable__content\"><pre>Incremental(estimator=SGDClassifier(loss=&#x27;log&#x27;), scoring=&#x27;accuracy&#x27;)</pre></div></div></div><div class=\"sk-parallel\"><div class=\"sk-parallel-item\"><div class=\"sk-item\"><div class=\"sk-label-container\"><div class=\"sk-label sk-toggleable\"><input class=\"sk-toggleable__control sk-hidden--visually\" id=\"sk-estimator-id-2\" type=\"checkbox\" ><label for=\"sk-estimator-id-2\" class=\"sk-toggleable__label sk-toggleable__label-arrow\">estimator: SGDClassifier</label><div class=\"sk-toggleable__content\"><pre>SGDClassifier(loss=&#x27;log&#x27;)</pre></div></div></div><div class=\"sk-serial\"><div class=\"sk-item\"><div class=\"sk-estimator sk-toggleable\"><input class=\"sk-toggleable__control sk-hidden--visually\" id=\"sk-estimator-id-3\" type=\"checkbox\" ><label for=\"sk-estimator-id-3\" class=\"sk-toggleable__label sk-toggleable__label-arrow\">SGDClassifier</label><div class=\"sk-toggleable__content\"><pre>SGDClassifier(loss=&#x27;log&#x27;)</pre></div></div></div></div></div></div></div></div></div></div>"
            ]
          },
          "metadata": {},
          "execution_count": 12
        }
      ],
      "source": [
        "# Training\n",
        "inc.fit(X_train, y_train, classes=classes)"
      ]
    },
    {
      "cell_type": "code",
      "execution_count": 13,
      "id": "f3a654f2-bb4d-4644-bc39-09e5cec3a499",
      "metadata": {
        "execution": {
          "iopub.execute_input": "2024-01-21T17:09:48.371866Z",
          "iopub.status.busy": "2024-01-21T17:09:48.371543Z",
          "iopub.status.idle": "2024-01-21T17:09:48.465630Z",
          "shell.execute_reply": "2024-01-21T17:09:48.465197Z",
          "shell.execute_reply.started": "2024-01-21T17:09:48.371849Z"
        },
        "colab": {
          "base_uri": "https://localhost:8080/"
        },
        "id": "f3a654f2-bb4d-4644-bc39-09e5cec3a499",
        "outputId": "c0eee0a3-7b43-47b3-b4b5-a04984194c4e"
      },
      "outputs": [
        {
          "output_type": "execute_result",
          "data": {
            "text/plain": [
              "0.6057"
            ]
          },
          "metadata": {},
          "execution_count": 13
        }
      ],
      "source": [
        "inc.score(X_test, y_test)"
      ]
    },
    {
      "cell_type": "code",
      "execution_count": null,
      "id": "8fa4ff2c-fad8-448a-92c4-59ab23199352",
      "metadata": {
        "id": "8fa4ff2c-fad8-448a-92c4-59ab23199352"
      },
      "outputs": [],
      "source": []
    },
    {
      "cell_type": "code",
      "execution_count": null,
      "id": "47701c6b-5e91-4bab-8b28-9c17bdd31c8d",
      "metadata": {
        "id": "47701c6b-5e91-4bab-8b28-9c17bdd31c8d"
      },
      "outputs": [],
      "source": []
    }
  ],
  "metadata": {
    "kernelspec": {
      "display_name": "Python 3 (ipykernel)",
      "language": "python",
      "name": "python3"
    },
    "language_info": {
      "codemirror_mode": {
        "name": "ipython",
        "version": 3
      },
      "file_extension": ".py",
      "mimetype": "text/x-python",
      "name": "python",
      "nbconvert_exporter": "python",
      "pygments_lexer": "ipython3",
      "version": "3.11.5"
    },
    "colab": {
      "provenance": []
    }
  },
  "nbformat": 4,
  "nbformat_minor": 5
}