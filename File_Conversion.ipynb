{
 "cells": [
  {
   "cell_type": "code",
   "execution_count": 1,
   "id": "98057e48-cdb4-4fd1-9989-7922bfcd6683",
   "metadata": {
    "execution": {
     "iopub.execute_input": "2024-01-21T11:52:53.696399Z",
     "iopub.status.busy": "2024-01-21T11:52:53.695723Z",
     "iopub.status.idle": "2024-01-21T11:52:54.027000Z",
     "shell.execute_reply": "2024-01-21T11:52:54.026730Z",
     "shell.execute_reply.started": "2024-01-21T11:52:53.696382Z"
    }
   },
   "outputs": [],
   "source": [
    "import pandas as pd"
   ]
  },
  {
   "cell_type": "code",
   "execution_count": 12,
   "id": "7ed12e33-3496-4f25-8ce7-8565fb223453",
   "metadata": {
    "execution": {
     "iopub.execute_input": "2024-01-21T12:00:52.896862Z",
     "iopub.status.busy": "2024-01-21T12:00:52.896015Z",
     "iopub.status.idle": "2024-01-21T12:00:53.265435Z",
     "shell.execute_reply": "2024-01-21T12:00:53.265068Z",
     "shell.execute_reply.started": "2024-01-21T12:00:52.896830Z"
    }
   },
   "outputs": [],
   "source": [
    "\n",
    "# Load the large dataset from CSV\n",
    "csv_file_path = 'data/large_dataset.csv'\n",
    "df = pd.read_csv(csv_file_path)"
   ]
  },
  {
   "cell_type": "code",
   "execution_count": 13,
   "id": "3d373401-3a86-406f-beb1-f5f4888a1b41",
   "metadata": {
    "execution": {
     "iopub.execute_input": "2024-01-21T12:00:56.103101Z",
     "iopub.status.busy": "2024-01-21T12:00:56.102683Z",
     "iopub.status.idle": "2024-01-21T12:00:56.114433Z",
     "shell.execute_reply": "2024-01-21T12:00:56.113509Z",
     "shell.execute_reply.started": "2024-01-21T12:00:56.103077Z"
    }
   },
   "outputs": [
    {
     "name": "stdout",
     "output_type": "stream",
     "text": [
      "Original Dataset:\n",
      "  Invoice StockCode                          Description  Quantity  \\\n",
      "0  536365    85123A   WHITE HANGING HEART T-LIGHT HOLDER         6   \n",
      "1  536365     71053                  WHITE METAL LANTERN         6   \n",
      "2  536365    84406B       CREAM CUPID HEARTS COAT HANGER         8   \n",
      "3  536365    84029G  KNITTED UNION FLAG HOT WATER BOTTLE         6   \n",
      "4  536365    84029E       RED WOOLLY HOTTIE WHITE HEART.         6   \n",
      "\n",
      "      InvoiceDate  Price  Customer ID         Country  \n",
      "0  01/12/10 08:26   2.55      17850.0  United Kingdom  \n",
      "1  01/12/10 08:26   3.39      17850.0  United Kingdom  \n",
      "2  01/12/10 08:26   2.75      17850.0  United Kingdom  \n",
      "3  01/12/10 08:26   3.39      17850.0  United Kingdom  \n",
      "4  01/12/10 08:26   3.39      17850.0  United Kingdom  \n"
     ]
    }
   ],
   "source": [
    "\n",
    "# Display the original dataset\n",
    "print(\"Original Dataset:\")\n",
    "print(df.head())"
   ]
  },
  {
   "cell_type": "code",
   "execution_count": 14,
   "id": "a51baf62-3a24-4794-8f16-04eb3a1aaf17",
   "metadata": {
    "execution": {
     "iopub.execute_input": "2024-01-21T12:01:01.222307Z",
     "iopub.status.busy": "2024-01-21T12:01:01.222000Z",
     "iopub.status.idle": "2024-01-21T12:01:01.440790Z",
     "shell.execute_reply": "2024-01-21T12:01:01.440478Z",
     "shell.execute_reply.started": "2024-01-21T12:01:01.222288Z"
    }
   },
   "outputs": [],
   "source": [
    " # Convert and save the dataset to Parquet format\n",
    "parquet_file_path = 'data/large_dataset.parquet'\n",
    "df.to_parquet(parquet_file_path, index=False)\n"
   ]
  },
  {
   "cell_type": "code",
   "execution_count": 15,
   "id": "9f087c11-0760-46b4-b17f-880ba15dc450",
   "metadata": {
    "execution": {
     "iopub.execute_input": "2024-01-21T12:01:03.367756Z",
     "iopub.status.busy": "2024-01-21T12:01:03.367448Z",
     "iopub.status.idle": "2024-01-21T12:01:03.483888Z",
     "shell.execute_reply": "2024-01-21T12:01:03.483568Z",
     "shell.execute_reply.started": "2024-01-21T12:01:03.367738Z"
    }
   },
   "outputs": [
    {
     "name": "stdout",
     "output_type": "stream",
     "text": [
      "\n",
      "Converted Dataset (Parquet):\n",
      "  Invoice StockCode                          Description  Quantity  \\\n",
      "0  536365    85123A   WHITE HANGING HEART T-LIGHT HOLDER         6   \n",
      "1  536365     71053                  WHITE METAL LANTERN         6   \n",
      "2  536365    84406B       CREAM CUPID HEARTS COAT HANGER         8   \n",
      "3  536365    84029G  KNITTED UNION FLAG HOT WATER BOTTLE         6   \n",
      "4  536365    84029E       RED WOOLLY HOTTIE WHITE HEART.         6   \n",
      "\n",
      "      InvoiceDate  Price  Customer ID         Country  \n",
      "0  01/12/10 08:26   2.55      17850.0  United Kingdom  \n",
      "1  01/12/10 08:26   3.39      17850.0  United Kingdom  \n",
      "2  01/12/10 08:26   2.75      17850.0  United Kingdom  \n",
      "3  01/12/10 08:26   3.39      17850.0  United Kingdom  \n",
      "4  01/12/10 08:26   3.39      17850.0  United Kingdom  \n"
     ]
    }
   ],
   "source": [
    "\n",
    "# Display the converted dataset\n",
    "converted_df = pd.read_parquet(parquet_file_path)\n",
    "print(\"\\nConverted Dataset (Parquet):\")\n",
    "print(converted_df.head())"
   ]
  },
  {
   "cell_type": "code",
   "execution_count": 16,
   "id": "3413c545-a4ab-4758-b906-758da48d0b7e",
   "metadata": {
    "execution": {
     "iopub.execute_input": "2024-01-21T12:01:04.189794Z",
     "iopub.status.busy": "2024-01-21T12:01:04.189483Z",
     "iopub.status.idle": "2024-01-21T12:01:04.193322Z",
     "shell.execute_reply": "2024-01-21T12:01:04.192612Z",
     "shell.execute_reply.started": "2024-01-21T12:01:04.189775Z"
    }
   },
   "outputs": [],
   "source": [
    "import os\n",
    "\n",
    "def get_file_size(file_path):\n",
    "    # Get the size of the file in bytes\n",
    "    file_size = os.path.getsize(file_path)\n",
    "    \n",
    "    return file_size"
   ]
  },
  {
   "cell_type": "code",
   "execution_count": 18,
   "id": "449cc27c-5222-4a7a-a833-77d91ece6546",
   "metadata": {
    "execution": {
     "iopub.execute_input": "2024-01-21T12:01:10.239990Z",
     "iopub.status.busy": "2024-01-21T12:01:10.239663Z",
     "iopub.status.idle": "2024-01-21T12:01:10.243481Z",
     "shell.execute_reply": "2024-01-21T12:01:10.242817Z",
     "shell.execute_reply.started": "2024-01-21T12:01:10.239971Z"
    }
   },
   "outputs": [
    {
     "name": "stdout",
     "output_type": "stream",
     "text": [
      "The size of the file \"data/large_dataset.csv\" is 44507565 bytes.\n"
     ]
    }
   ],
   "source": [
    "\n",
    "# Example usage\n",
    "file_path = r'data/large_dataset.csv'\n",
    "size_in_bytes = get_file_size(file_path)\n",
    "\n",
    "print(f'The size of the file \"{file_path}\" is {size_in_bytes} bytes.')\n"
   ]
  },
  {
   "cell_type": "code",
   "execution_count": 19,
   "id": "20e84bfd-0bc2-4522-823d-011d96d2269e",
   "metadata": {
    "execution": {
     "iopub.execute_input": "2024-01-21T12:01:13.478223Z",
     "iopub.status.busy": "2024-01-21T12:01:13.477126Z",
     "iopub.status.idle": "2024-01-21T12:01:13.484634Z",
     "shell.execute_reply": "2024-01-21T12:01:13.483998Z",
     "shell.execute_reply.started": "2024-01-21T12:01:13.478162Z"
    }
   },
   "outputs": [
    {
     "name": "stdout",
     "output_type": "stream",
     "text": [
      "The size of the file \"data/large_dataset.parquet\" is 3627089 bytes.\n"
     ]
    }
   ],
   "source": [
    "\n",
    "# Example usage\n",
    "file_path = r'data/large_dataset.parquet'\n",
    "size_in_bytes = get_file_size(file_path)\n",
    "\n",
    "print(f'The size of the file \"{file_path}\" is {size_in_bytes} bytes.')\n"
   ]
  },
  {
   "cell_type": "code",
   "execution_count": 20,
   "id": "228a3758-559a-4b5f-b92f-37f828eb5bb5",
   "metadata": {
    "execution": {
     "iopub.execute_input": "2024-01-21T12:01:15.841332Z",
     "iopub.status.busy": "2024-01-21T12:01:15.840992Z",
     "iopub.status.idle": "2024-01-21T12:01:15.844473Z",
     "shell.execute_reply": "2024-01-21T12:01:15.843903Z",
     "shell.execute_reply.started": "2024-01-21T12:01:15.841313Z"
    }
   },
   "outputs": [],
   "source": [
    "# File size is significantly lower than the other"
   ]
  },
  {
   "cell_type": "code",
   "execution_count": null,
   "id": "fff86d57-d6d9-4b3b-990d-6078701e28e7",
   "metadata": {},
   "outputs": [],
   "source": []
  }
 ],
 "metadata": {
  "kernelspec": {
   "display_name": "Python 3 (ipykernel)",
   "language": "python",
   "name": "python3"
  },
  "language_info": {
   "codemirror_mode": {
    "name": "ipython",
    "version": 3
   },
   "file_extension": ".py",
   "mimetype": "text/x-python",
   "name": "python",
   "nbconvert_exporter": "python",
   "pygments_lexer": "ipython3",
   "version": "3.11.5"
  }
 },
 "nbformat": 4,
 "nbformat_minor": 5
}
